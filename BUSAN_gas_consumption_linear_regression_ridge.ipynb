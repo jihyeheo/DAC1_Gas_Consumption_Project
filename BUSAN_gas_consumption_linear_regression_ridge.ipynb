{
 "cells": [
  {
   "cell_type": "markdown",
   "metadata": {},
   "source": [
    "# Ridge Linear Regression model with Gas Consumption Data\n",
    "\n",
    "- we make linear regression model with Busan city's gas consumption and average tempurature from 2009-01 to 2018-05.\n",
    "- we will predict Busan city's gas consumption from 2009_01 to 2019-05 by linear regression model."
   ]
  },
  {
   "cell_type": "markdown",
   "metadata": {},
   "source": [
    "### 1) import packages"
   ]
  },
  {
   "cell_type": "code",
   "execution_count": 4,
   "metadata": {},
   "outputs": [],
   "source": [
    "import numpy as np\n",
    "import pandas as pd\n",
    "import matplotlib.pyplot as plt\n",
    "from sklearn.linear_model import LinearRegression\n",
    "from sklearn import linear_model\n",
    "from sklearn.metrics import mean_squared_error\n",
    "from sklearn.metrics import mean_absolute_error"
   ]
  },
  {
   "cell_type": "markdown",
   "metadata": {},
   "source": [
    "### 2) load datasets"
   ]
  },
  {
   "cell_type": "code",
   "execution_count": 5,
   "metadata": {},
   "outputs": [],
   "source": [
    "# train : BUSAN_gas_consumption from 2009-01 to 2019-05 (113 months)\n",
    "# temp_train_orig : BUSAN_average_tempurature from 2009-01 to 2019_12\n",
    "\n",
    "train = pd.read_csv(\"train_processing.csv\", encoding=\"utf-8\", index_col=0)\n",
    "temp_train_orig = pd.read_csv(\"ta_20200406200355.csv\", encoding = \"cp949\" , skiprows =7, usecols = ['평균기온(℃)'])\n",
    "\n",
    "Y = train.values[:,:]\n",
    "# sample_submission = pd.read_csv(\"sample_submission.csv\", encoding=\"utf-8\", index_col=0)"
   ]
  },
  {
   "cell_type": "code",
   "execution_count": 7,
   "metadata": {},
   "outputs": [],
   "source": [
    "# temp_train : indexing tempurature from 2009-01 to 2019-05 (113 months)\n",
    "temp_train = temp_train_orig.values[:-7,:].T"
   ]
  },
  {
   "cell_type": "markdown",
   "metadata": {},
   "source": [
    "### 3) Linear Regression Model"
   ]
  },
  {
   "cell_type": "code",
   "execution_count": 42,
   "metadata": {},
   "outputs": [],
   "source": [
    "model1 = linear_model.HuberRegressor(alpha=0.5)\n",
    "model1 = model.fit(temp_train.T, Y.T)"
   ]
  },
  {
   "cell_type": "code",
   "execution_count": 43,
   "metadata": {},
   "outputs": [
    {
     "name": "stdout",
     "output_type": "stream",
     "text": [
      "W = [[-1.16067535]\n",
      " [-2.7166848 ]\n",
      " [-4.97055971]\n",
      " ...\n",
      " [-0.97376916]\n",
      " [-5.63538369]\n",
      " [-1.87510692]]\n",
      "b = [[ 30.91710966]\n",
      " [ 77.42223063]\n",
      " [137.59829807]\n",
      " ...\n",
      " [ 27.19224892]\n",
      " [157.70372277]\n",
      " [ 64.06675312]]\n",
      "\n",
      "Shape of W : (71588, 1)\n",
      "Shape of b : (71588, 1)\n"
     ]
    }
   ],
   "source": [
    "# explore W & b\n",
    "W = model1.coef_\n",
    "b = model1.intercept_\n",
    "b = b.reshape(Y.shape[0] , 1)\n",
    "\n",
    "print(\"W =\", W)\n",
    "print(\"b =\", b)\n",
    "print()\n",
    "print(\"Shape of W :\", W.shape)\n",
    "print(\"Shape of b :\", b.shape)"
   ]
  },
  {
   "cell_type": "markdown",
   "metadata": {},
   "source": [
    "### 4) Predict & Check RMSE"
   ]
  },
  {
   "cell_type": "code",
   "execution_count": 44,
   "metadata": {},
   "outputs": [],
   "source": [
    "# predict gas consumption from 2009-01 to 2019-05 by using linear model\n",
    "Y_hat = np.dot(W,temp_train) + b"
   ]
  },
  {
   "cell_type": "code",
   "execution_count": 45,
   "metadata": {},
   "outputs": [
    {
     "name": "stdout",
     "output_type": "stream",
     "text": [
      "RMSE : 44.963049625225146\n"
     ]
    }
   ],
   "source": [
    "RMSE = mean_squared_error(Y, Y_hat) ** 0.5\n",
    "print(\"RMSE :\" , RMSE)"
   ]
  },
  {
   "cell_type": "code",
   "execution_count": null,
   "metadata": {},
   "outputs": [],
   "source": []
  }
 ],
 "metadata": {
  "kernelspec": {
   "display_name": "Python 3",
   "language": "python",
   "name": "python3"
  },
  "language_info": {
   "codemirror_mode": {
    "name": "ipython",
    "version": 3
   },
   "file_extension": ".py",
   "mimetype": "text/x-python",
   "name": "python",
   "nbconvert_exporter": "python",
   "pygments_lexer": "ipython3",
   "version": "3.7.6"
  }
 },
 "nbformat": 4,
 "nbformat_minor": 2
}
