{
 "cells": [
  {
   "cell_type": "markdown",
   "metadata": {},
   "source": [
    "# Linear Regression model with Gas Consumption Data\n",
    "\n",
    "- we make linear regression model with Busan city's gas consumption and average tempurature from 2009-01 to 2018-05.\n",
    "- we will predict Busan city's gas consumption from 2009_01 to 2019-05 by linear regression model."
   ]
  },
  {
   "cell_type": "markdown",
   "metadata": {},
   "source": [
    "### 1) import packages"
   ]
  },
  {
   "cell_type": "code",
   "execution_count": 35,
   "metadata": {},
   "outputs": [],
   "source": [
    "import numpy as np\n",
    "import pandas as pd\n",
    "import matplotlib.pyplot as plt\n",
    "from sklearn.linear_model import LinearRegression\n",
    "from sklearn.metrics import mean_squared_error\n",
    "from sklearn.metrics import mean_absolute_error"
   ]
  },
  {
   "cell_type": "markdown",
   "metadata": {},
   "source": [
    "### 2) load datasets"
   ]
  },
  {
   "cell_type": "code",
   "execution_count": 3,
   "metadata": {},
   "outputs": [],
   "source": [
    "# train : BUSAN_gas_consumption from 2009-01 to 2019-05 (113 months)\n",
    "# temp_train_orig : BUSAN_average_tempurature from 2009-01 to 2019_12\n",
    "\n",
    "train = pd.read_csv(\"train_processing.csv\", encoding=\"utf-8\", index_col=0)\n",
    "temp_train_orig = pd.read_csv(\"ta_20200406200355.csv\", encoding = \"cp949\" , skiprows =7, usecols = ['평균기온(℃)'])\n",
    "\n",
    "Y = train.values[:,:]\n",
    "# sample_submission = pd.read_csv(\"sample_submission.csv\", encoding=\"utf-8\", index_col=0)"
   ]
  },
  {
   "cell_type": "code",
   "execution_count": null,
   "metadata": {},
   "outputs": [],
   "source": [
    "### 3) Explore datasets"
   ]
  },
  {
   "cell_type": "code",
   "execution_count": 4,
   "metadata": {
    "scrolled": true
   },
   "outputs": [
    {
     "data": {
      "text/html": [
       "<div>\n",
       "<style scoped>\n",
       "    .dataframe tbody tr th:only-of-type {\n",
       "        vertical-align: middle;\n",
       "    }\n",
       "\n",
       "    .dataframe tbody tr th {\n",
       "        vertical-align: top;\n",
       "    }\n",
       "\n",
       "    .dataframe thead th {\n",
       "        text-align: right;\n",
       "    }\n",
       "</style>\n",
       "<table border=\"1\" class=\"dataframe\">\n",
       "  <thead>\n",
       "    <tr style=\"text-align: right;\">\n",
       "      <th></th>\n",
       "      <th>2009-01</th>\n",
       "      <th>2009-02</th>\n",
       "      <th>2009-03</th>\n",
       "      <th>2009-04</th>\n",
       "      <th>2009-05</th>\n",
       "      <th>2009-06</th>\n",
       "      <th>2009-07</th>\n",
       "      <th>2009-08</th>\n",
       "      <th>2009-09</th>\n",
       "      <th>2009-10</th>\n",
       "      <th>...</th>\n",
       "      <th>2018-08</th>\n",
       "      <th>2018-09</th>\n",
       "      <th>2018-10</th>\n",
       "      <th>2018-11</th>\n",
       "      <th>2018-12</th>\n",
       "      <th>2019-01</th>\n",
       "      <th>2019-02</th>\n",
       "      <th>2019-03</th>\n",
       "      <th>2019-04</th>\n",
       "      <th>2019-05</th>\n",
       "    </tr>\n",
       "    <tr>\n",
       "      <th>id</th>\n",
       "      <th></th>\n",
       "      <th></th>\n",
       "      <th></th>\n",
       "      <th></th>\n",
       "      <th></th>\n",
       "      <th></th>\n",
       "      <th></th>\n",
       "      <th></th>\n",
       "      <th></th>\n",
       "      <th></th>\n",
       "      <th></th>\n",
       "      <th></th>\n",
       "      <th></th>\n",
       "      <th></th>\n",
       "      <th></th>\n",
       "      <th></th>\n",
       "      <th></th>\n",
       "      <th></th>\n",
       "      <th></th>\n",
       "      <th></th>\n",
       "      <th></th>\n",
       "    </tr>\n",
       "  </thead>\n",
       "  <tbody>\n",
       "    <tr>\n",
       "      <td>0</td>\n",
       "      <td>26.680000</td>\n",
       "      <td>11.860000</td>\n",
       "      <td>19.77</td>\n",
       "      <td>14.83</td>\n",
       "      <td>7.90</td>\n",
       "      <td>2.96</td>\n",
       "      <td>5.93</td>\n",
       "      <td>4.94</td>\n",
       "      <td>4.94</td>\n",
       "      <td>4.94</td>\n",
       "      <td>...</td>\n",
       "      <td>1.970000</td>\n",
       "      <td>0.980000</td>\n",
       "      <td>2.960000</td>\n",
       "      <td>4.94000</td>\n",
       "      <td>6.91</td>\n",
       "      <td>9.88</td>\n",
       "      <td>106.593159</td>\n",
       "      <td>2.960000</td>\n",
       "      <td>7.900000</td>\n",
       "      <td>4.940000</td>\n",
       "    </tr>\n",
       "    <tr>\n",
       "      <td>1</td>\n",
       "      <td>107.730000</td>\n",
       "      <td>77.090000</td>\n",
       "      <td>79.09</td>\n",
       "      <td>4.94</td>\n",
       "      <td>48.44</td>\n",
       "      <td>22.74</td>\n",
       "      <td>33.61</td>\n",
       "      <td>23.72</td>\n",
       "      <td>23.72</td>\n",
       "      <td>25.70</td>\n",
       "      <td>...</td>\n",
       "      <td>11.850000</td>\n",
       "      <td>11.850000</td>\n",
       "      <td>19.760000</td>\n",
       "      <td>22.73000</td>\n",
       "      <td>38.54</td>\n",
       "      <td>145.28</td>\n",
       "      <td>56.330000</td>\n",
       "      <td>62.260000</td>\n",
       "      <td>58.310000</td>\n",
       "      <td>32.610000</td>\n",
       "    </tr>\n",
       "    <tr>\n",
       "      <td>2</td>\n",
       "      <td>94.880000</td>\n",
       "      <td>90.930000</td>\n",
       "      <td>78.10</td>\n",
       "      <td>66.24</td>\n",
       "      <td>38.55</td>\n",
       "      <td>25.70</td>\n",
       "      <td>27.68</td>\n",
       "      <td>26.69</td>\n",
       "      <td>18.78</td>\n",
       "      <td>15.81</td>\n",
       "      <td>...</td>\n",
       "      <td>12.827224</td>\n",
       "      <td>13.074939</td>\n",
       "      <td>21.972128</td>\n",
       "      <td>40.99625</td>\n",
       "      <td>81.04</td>\n",
       "      <td>130.45</td>\n",
       "      <td>71.150000</td>\n",
       "      <td>81.902149</td>\n",
       "      <td>66.499429</td>\n",
       "      <td>42.229145</td>\n",
       "    </tr>\n",
       "    <tr>\n",
       "      <td>3</td>\n",
       "      <td>115.487984</td>\n",
       "      <td>114.181544</td>\n",
       "      <td>149.29</td>\n",
       "      <td>51.41</td>\n",
       "      <td>6.92</td>\n",
       "      <td>8.89</td>\n",
       "      <td>2.96</td>\n",
       "      <td>2.96</td>\n",
       "      <td>1.97</td>\n",
       "      <td>3.95</td>\n",
       "      <td>...</td>\n",
       "      <td>12.827224</td>\n",
       "      <td>13.074939</td>\n",
       "      <td>5.920000</td>\n",
       "      <td>26.68000</td>\n",
       "      <td>74.12</td>\n",
       "      <td>158.12</td>\n",
       "      <td>159.110000</td>\n",
       "      <td>105.750000</td>\n",
       "      <td>86.970000</td>\n",
       "      <td>43.480000</td>\n",
       "    </tr>\n",
       "    <tr>\n",
       "      <td>4</td>\n",
       "      <td>97.850000</td>\n",
       "      <td>97.850000</td>\n",
       "      <td>70.19</td>\n",
       "      <td>60.31</td>\n",
       "      <td>31.63</td>\n",
       "      <td>25.70</td>\n",
       "      <td>20.76</td>\n",
       "      <td>22.74</td>\n",
       "      <td>20.76</td>\n",
       "      <td>20.76</td>\n",
       "      <td>...</td>\n",
       "      <td>8.890000</td>\n",
       "      <td>8.890000</td>\n",
       "      <td>16.800000</td>\n",
       "      <td>22.73000</td>\n",
       "      <td>20.75</td>\n",
       "      <td>26.68</td>\n",
       "      <td>32.610000</td>\n",
       "      <td>19.760000</td>\n",
       "      <td>21.740000</td>\n",
       "      <td>15.810000</td>\n",
       "    </tr>\n",
       "  </tbody>\n",
       "</table>\n",
       "<p>5 rows × 125 columns</p>\n",
       "</div>"
      ],
      "text/plain": [
       "       2009-01     2009-02  2009-03  2009-04  2009-05  2009-06  2009-07  \\\n",
       "id                                                                        \n",
       "0    26.680000   11.860000    19.77    14.83     7.90     2.96     5.93   \n",
       "1   107.730000   77.090000    79.09     4.94    48.44    22.74    33.61   \n",
       "2    94.880000   90.930000    78.10    66.24    38.55    25.70    27.68   \n",
       "3   115.487984  114.181544   149.29    51.41     6.92     8.89     2.96   \n",
       "4    97.850000   97.850000    70.19    60.31    31.63    25.70    20.76   \n",
       "\n",
       "    2009-08  2009-09  2009-10  ...    2018-08    2018-09    2018-10   2018-11  \\\n",
       "id                             ...                                              \n",
       "0      4.94     4.94     4.94  ...   1.970000   0.980000   2.960000   4.94000   \n",
       "1     23.72    23.72    25.70  ...  11.850000  11.850000  19.760000  22.73000   \n",
       "2     26.69    18.78    15.81  ...  12.827224  13.074939  21.972128  40.99625   \n",
       "3      2.96     1.97     3.95  ...  12.827224  13.074939   5.920000  26.68000   \n",
       "4     22.74    20.76    20.76  ...   8.890000   8.890000  16.800000  22.73000   \n",
       "\n",
       "    2018-12  2019-01     2019-02     2019-03    2019-04    2019-05  \n",
       "id                                                                  \n",
       "0      6.91     9.88  106.593159    2.960000   7.900000   4.940000  \n",
       "1     38.54   145.28   56.330000   62.260000  58.310000  32.610000  \n",
       "2     81.04   130.45   71.150000   81.902149  66.499429  42.229145  \n",
       "3     74.12   158.12  159.110000  105.750000  86.970000  43.480000  \n",
       "4     20.75    26.68   32.610000   19.760000  21.740000  15.810000  \n",
       "\n",
       "[5 rows x 125 columns]"
      ]
     },
     "execution_count": 4,
     "metadata": {},
     "output_type": "execute_result"
    }
   ],
   "source": [
    "train.head()"
   ]
  },
  {
   "cell_type": "code",
   "execution_count": 5,
   "metadata": {},
   "outputs": [
    {
     "data": {
      "text/html": [
       "<div>\n",
       "<style scoped>\n",
       "    .dataframe tbody tr th:only-of-type {\n",
       "        vertical-align: middle;\n",
       "    }\n",
       "\n",
       "    .dataframe tbody tr th {\n",
       "        vertical-align: top;\n",
       "    }\n",
       "\n",
       "    .dataframe thead th {\n",
       "        text-align: right;\n",
       "    }\n",
       "</style>\n",
       "<table border=\"1\" class=\"dataframe\">\n",
       "  <thead>\n",
       "    <tr style=\"text-align: right;\">\n",
       "      <th></th>\n",
       "      <th>평균기온(℃)</th>\n",
       "    </tr>\n",
       "  </thead>\n",
       "  <tbody>\n",
       "    <tr>\n",
       "      <td>0</td>\n",
       "      <td>3.5</td>\n",
       "    </tr>\n",
       "    <tr>\n",
       "      <td>1</td>\n",
       "      <td>8.3</td>\n",
       "    </tr>\n",
       "    <tr>\n",
       "      <td>2</td>\n",
       "      <td>9.8</td>\n",
       "    </tr>\n",
       "    <tr>\n",
       "      <td>3</td>\n",
       "      <td>14.3</td>\n",
       "    </tr>\n",
       "    <tr>\n",
       "      <td>4</td>\n",
       "      <td>18.6</td>\n",
       "    </tr>\n",
       "  </tbody>\n",
       "</table>\n",
       "</div>"
      ],
      "text/plain": [
       "   평균기온(℃)\n",
       "0      3.5\n",
       "1      8.3\n",
       "2      9.8\n",
       "3     14.3\n",
       "4     18.6"
      ]
     },
     "execution_count": 5,
     "metadata": {},
     "output_type": "execute_result"
    }
   ],
   "source": [
    "temp_train_orig.head()"
   ]
  },
  {
   "cell_type": "code",
   "execution_count": 6,
   "metadata": {},
   "outputs": [],
   "source": [
    "# temp_train : indexing tempurature from 2009-01 to 2019-05 (113 months)\n",
    "temp_train = temp_train_orig.values[:-7,:].T"
   ]
  },
  {
   "cell_type": "code",
   "execution_count": 7,
   "metadata": {
    "scrolled": true
   },
   "outputs": [
    {
     "name": "stdout",
     "output_type": "stream",
     "text": [
      "Shape of Y : (71588, 125)\n",
      "Shape of temp_train : (1, 125)\n",
      "Type of y_train : <class 'numpy.ndarray'>\n",
      "Type of temp_train : <class 'numpy.ndarray'>\n"
     ]
    }
   ],
   "source": [
    "# explore datasets\n",
    "print(\"Shape of Y :\" ,Y.shape)\n",
    "print(\"Shape of temp_train :\", temp_train.shape)\n",
    "print(\"Type of y_train :\" , type(Y))\n",
    "print(\"Type of temp_train :\" , type(temp_train))"
   ]
  },
  {
   "cell_type": "markdown",
   "metadata": {},
   "source": [
    "### 4) Linear Regression Model"
   ]
  },
  {
   "cell_type": "code",
   "execution_count": 8,
   "metadata": {},
   "outputs": [],
   "source": [
    "model = LinearRegression(fit_intercept=True)\n",
    "model = model.fit(temp_train.T, Y.T)"
   ]
  },
  {
   "cell_type": "markdown",
   "metadata": {},
   "source": [
    "### 5) Result"
   ]
  },
  {
   "cell_type": "code",
   "execution_count": 11,
   "metadata": {
    "scrolled": true
   },
   "outputs": [
    {
     "name": "stdout",
     "output_type": "stream",
     "text": [
      "W = [[-1.16227593]\n",
      " [-2.71828537]\n",
      " [-4.97216028]\n",
      " ...\n",
      " [-0.97536973]\n",
      " [-5.63698426]\n",
      " [-1.8767075 ]]\n",
      "b = [[ 30.94099919]\n",
      " [ 77.44612016]\n",
      " [137.6221876 ]\n",
      " ...\n",
      " [ 27.21613845]\n",
      " [157.7276123 ]\n",
      " [ 64.09064265]]\n",
      "\n",
      "Shape of W : (71588, 1)\n",
      "Shape of b : (71588, 1)\n"
     ]
    }
   ],
   "source": [
    "# explore W & b\n",
    "W = model.coef_\n",
    "b = model.intercept_\n",
    "b = b.reshape(Y.shape[0] , 1)\n",
    "\n",
    "print(\"W =\", W)\n",
    "print(\"b =\", b)\n",
    "print()\n",
    "print(\"Shape of W :\", W.shape)\n",
    "print(\"Shape of b :\", b.shape)"
   ]
  },
  {
   "cell_type": "markdown",
   "metadata": {},
   "source": [
    "### 6) Visualization of an id"
   ]
  },
  {
   "cell_type": "code",
   "execution_count": 21,
   "metadata": {},
   "outputs": [],
   "source": [
    "def plot(W,b,temp,y,n) : \n",
    "    # propagation\n",
    "    Z = np.dot(W,temp) + b\n",
    "    \n",
    "    nth_temp = temp[0]\n",
    "    \n",
    "    # indexing n_th data\n",
    "    nth_Z = Z[n-1]\n",
    "    nth_y = y[n-1]\n",
    "    \n",
    "    # visualization\n",
    "    plt.plot(nth_temp, nth_Z, color = \"red\")\n",
    "    plt.scatter(nth_temp, nth_y, color = \"blue\")\n",
    "#     plt.plot(nth_temp, nth_y,'o', color = \"blue\") # same as above\n",
    "    plt.title(\"id = {0}\".format(n))\n",
    "    plt.xlabel(\"Average temperature per month\")\n",
    "    plt.ylabel(\"Gas consumption\")\n",
    "    plt.show()"
   ]
  },
  {
   "cell_type": "code",
   "execution_count": 23,
   "metadata": {
    "scrolled": false
   },
   "outputs": [
    {
     "data": {
      "image/png": "[encoded data removed]",
      "text/plain": [
       "<Figure size 432x288 with 1 Axes>"
      ]
     },
     "metadata": {
      "needs_background": "light"
     },
     "output_type": "display_data"
    }
   ],
   "source": [
    "plot(W, b, temp_train, Y, n = 500)  # you can change \"n\""
   ]
  },
  {
   "cell_type": "markdown",
   "metadata": {},
   "source": [
    "- 'Average temperature' and 'Gas consumption' seem proportional to each other."
   ]
  },
  {
   "cell_type": "markdown",
   "metadata": {},
   "source": [
    "### 7) Predict & Check RMSE"
   ]
  },
  {
   "cell_type": "code",
   "execution_count": 27,
   "metadata": {},
   "outputs": [],
   "source": [
    "# predict gas consumption from 2009-01 to 2019-05 by using linear model\n",
    "Y_hat = np.dot(W,temp_train) + b"
   ]
  },
  {
   "cell_type": "code",
   "execution_count": 43,
   "metadata": {},
   "outputs": [
    {
     "name": "stdout",
     "output_type": "stream",
     "text": [
      "(71588, 125)\n",
      "(71588, 125)\n"
     ]
    }
   ],
   "source": [
    "print(Y.shape)\n",
    "print(Y_hat.shape)"
   ]
  },
  {
   "cell_type": "code",
   "execution_count": 48,
   "metadata": {},
   "outputs": [
    {
     "name": "stdout",
     "output_type": "stream",
     "text": [
      "RMSE : 44.96304784537202\n"
     ]
    }
   ],
   "source": [
    "RMSE = mean_squared_error(Y, Y_hat) ** 0.5\n",
    "print(\"RMSE :\" , RMSE)"
   ]
  },
  {
   "cell_type": "code",
   "execution_count": null,
   "metadata": {},
   "outputs": [],
   "source": []
  }
 ],
 "metadata": {
  "kernelspec": {
   "display_name": "Python 3",
   "language": "python",
   "name": "python3"
  },
  "language_info": {
   "codemirror_mode": {
    "name": "ipython",
    "version": 3
   },
   "file_extension": ".py",
   "mimetype": "text/x-python",
   "name": "python",
   "nbconvert_exporter": "python",
   "pygments_lexer": "ipython3",
   "version": "3.7.6"
  }
 },
 "nbformat": 4,
 "nbformat_minor": 4
}
