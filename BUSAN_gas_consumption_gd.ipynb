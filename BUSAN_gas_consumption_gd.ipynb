{
 "cells": [
  {
   "cell_type": "markdown",
   "metadata": {},
   "source": [
    "# Linear Regression model with Gas Consumption Data\n",
    "\n",
    "- we make linear regression model with Busan city's gas consumption and average tempurature from 2009-01 to 2018-05.\n",
    "- we will predict Busan city's gas consumption from 2018_06 to 2019-05 by linear regression model."
   ]
  },
  {
   "cell_type": "markdown",
   "metadata": {},
   "source": [
    "### 1) import packages"
   ]
  },
  {
   "cell_type": "code",
   "execution_count": 2,
   "metadata": {},
   "outputs": [],
   "source": [
    "import numpy as np\n",
    "import pandas as pd\n",
    "import matplotlib.pyplot as plt\n",
    "from sklearn.linear_model import LinearRegression\n",
    "from sklearn.metrics import mean_squared_error\n",
    "from sklearn import linear_model"
   ]
  },
  {
   "cell_type": "markdown",
   "metadata": {},
   "source": [
    "### 2) load datasets"
   ]
  },
  {
   "cell_type": "code",
   "execution_count": 3,
   "metadata": {},
   "outputs": [],
   "source": [
    "# y_train : BUSAN_gas_consumption from 2009-01 to 2018-05 (113 months)\n",
    "# temp_train_orig : BUSAN_average_tempurature from 2009-01 to 2018_12\n",
    "# temp_test_orig : BUSAN_average_tempurature from 2018-01 to 2019_12\n",
    "\n",
    "test = pd.read_csv(\"test.csv\", encoding=\"utf-8\", index_col=0)\n",
    "temp_train_orig = pd.read_csv(\"ta_20200329144537.csv\", encoding = \"cp949\" , skiprows =7, usecols = ['평균기온(℃)'])\n",
    "temp_test_orig = pd.read_csv(\"ta_20200329180212.csv\" , encoding = \"cp949\" , skiprows = 7 , usecols = ['평균기온(℃)'])\n",
    "\n",
    "y_train = test.values[:,:]\n",
    "sample_submission = pd.read_csv(\"sample_submission.csv\", encoding=\"utf-8\", index_col=0)"
   ]
  },
  {
   "cell_type": "markdown",
   "metadata": {},
   "source": [
    "### 3) Explore datasets"
   ]
  },
  {
   "cell_type": "code",
   "execution_count": 39,
   "metadata": {},
   "outputs": [
    {
     "data": {
      "text/plain": [
       "(10000, 113)"
      ]
     },
     "execution_count": 39,
     "metadata": {},
     "output_type": "execute_result"
    }
   ],
   "source": [
    "# temp_train : indexing tempurature from 2009-01 to 2018-05 (113 months)\n",
    "# temp_train : indexing tempurature from 2018_06 to 2019-05 (113 months)\n",
    "temp_train = temp_train_orig.values[:-7,:].T\n",
    "temp_test = temp_test_orig.values[5:-7].T\n",
    "temp_train1 = np.repeat(temp_train,10000,axis=0)\n",
    "temp_train1.shape"
   ]
  },
  {
   "cell_type": "code",
   "execution_count": 40,
   "metadata": {
    "scrolled": true
   },
   "outputs": [
    {
     "name": "stdout",
     "output_type": "stream",
     "text": [
      "Shape of y_train : (10000, 113)\n",
      "Shape of temp_train : (1, 113)\n",
      "Shape of temp_test : (1, 12)\n",
      "Type of y_train : <class 'numpy.ndarray'>\n",
      "Type of temp_train : <class 'numpy.ndarray'>\n",
      "Type of temp_test : <class 'numpy.ndarray'>\n"
     ]
    }
   ],
   "source": [
    "# explore datasets\n",
    "print(\"Shape of y_train :\" ,y_train.shape)\n",
    "print(\"Shape of temp_train :\", temp_train.shape)\n",
    "print(\"Shape of temp_test :\", temp_test.shape)\n",
    "print(\"Type of y_train :\" , type(y_train))\n",
    "print(\"Type of temp_train :\" , type(temp_train))\n",
    "print(\"Type of temp_test :\" , type(temp_test))"
   ]
  },
  {
   "cell_type": "code",
   "execution_count": 78,
   "metadata": {},
   "outputs": [],
   "source": [
    "W = np.random.randn(10000,1)*0.01\n",
    "b = np.zeros((10000,1))"
   ]
  },
  {
   "cell_type": "code",
   "execution_count": 130,
   "metadata": {},
   "outputs": [],
   "source": [
    "def propagate(W, b, X, Y):\n",
    "\n",
    "    m = (Y.shape[0]) * (Y.shape[1])\n",
    "\n",
    "    Z = np.dot(W, X)+ b\n",
    "    \n",
    "    cost = mean_squared_error(Y, Z) ** 0.5\n",
    "    \n",
    "    # Backward propagation\n",
    "    dW = (1/m) * (np.dot(X,(Z-Y).T)).T\n",
    "    db = (1/m) * (np.sum(Z-Y))\n",
    "    \n",
    "    grads = {\"dW\": dW,\n",
    "             \"db\": db}\n",
    "    \n",
    "    return grads, cost"
   ]
  },
  {
   "cell_type": "code",
   "execution_count": 135,
   "metadata": {},
   "outputs": [],
   "source": [
    "def optimize(W, b, X, Y, num_iterations, learning_rate, print_cost = False):\n",
    "    \"\"\"\n",
    "    Optimizes W and b by running a Gradient descent\n",
    "    Input : \n",
    "        num_iterations : number of iterations of the optimization loop\n",
    "        learning_rate -- learning rate of the gradient descent\n",
    "        print_cost -- True to print the loss every 50 steps\n",
    "   Returns:\n",
    "       params -- dictionary containing the weights W and bias b\n",
    "       grads -- dictionary containing the gradients of the weights and bias with respect to the cost function\n",
    "       costs -- list of all the costs computed during the optimization -> used to plot\n",
    "    \"\"\"\n",
    "    costs = []\n",
    "    \n",
    "    for i in range(num_iterations):\n",
    "\n",
    "        grads, cost = propagate(W,b,X,Y)\n",
    "\n",
    "        dW = grads[\"dW\"]\n",
    "        db = grads[\"db\"]\n",
    "        \n",
    "        W = W - (learning_rate) * dW\n",
    "        b = b - (learning_rate) * db\n",
    "\n",
    "        # Record the costs for plotting\n",
    "        if i % 10 == 0:\n",
    "            costs.append(cost)\n",
    "            \n",
    "        # Print the cost every 100 training iterations\n",
    "        if print_cost and i % 100 == 0:\n",
    "            print (\"Cost after iteration %i: %f\" %(i, cost))\n",
    "            \n",
    "    # plot the cost\n",
    "    plt.plot(costs)\n",
    "    plt.ylabel('cost')\n",
    "    plt.xlabel('iterations (per 100)')\n",
    "    plt.title(\"Learning rate =\" + str(learning_rate))\n",
    "    plt.show()\n",
    "    \n",
    "    # Lets save the trainded parameters in a variable\n",
    "    params = {\"W\": W,\n",
    "              \"b\": b}    \n",
    "    grads = {\"dW\": dW,\n",
    "             \"db\": db}\n",
    "    \n",
    "    return params, grads, costs"
   ]
  },
  {
   "cell_type": "code",
   "execution_count": 159,
   "metadata": {
    "scrolled": true
   },
   "outputs": [
    {
     "name": "stdout",
     "output_type": "stream",
     "text": [
      "Cost after iteration 0: 53.647574\n",
      "Cost after iteration 100: 30.307256\n",
      "Cost after iteration 200: 29.479180\n",
      "Cost after iteration 300: 29.398899\n",
      "Cost after iteration 400: 29.391222\n",
      "Cost after iteration 500: 29.390488\n",
      "Cost after iteration 600: 29.390418\n",
      "Cost after iteration 700: 29.390412\n",
      "Cost after iteration 800: 29.390411\n",
      "Cost after iteration 900: 29.390411\n"
     ]
    },
    {
     "data": {
      "image/png": "[encoded data removed]",
      "text/plain": [
       "<Figure size 432x288 with 1 Axes>"
      ]
     },
     "metadata": {
      "needs_background": "light"
     },
     "output_type": "display_data"
    }
   ],
   "source": [
    "params, grads, costs = optimize(W, b, temp_train, y_train, num_iterations= 1000, learning_rate = 1.9, print_cost = True)"
   ]
  },
  {
   "cell_type": "code",
   "execution_count": 162,
   "metadata": {},
   "outputs": [],
   "source": [
    "W1 = params[\"W\"]\n",
    "b1 = params[\"b\"]"
   ]
  },
  {
   "cell_type": "code",
   "execution_count": 163,
   "metadata": {},
   "outputs": [],
   "source": [
    "Y_hat = np.dot(W1,temp_train) + b1"
   ]
  },
  {
   "cell_type": "code",
   "execution_count": 164,
   "metadata": {},
   "outputs": [
    {
     "name": "stdout",
     "output_type": "stream",
     "text": [
      "RMSE : 29.39041080451973\n"
     ]
    }
   ],
   "source": [
    "RMSE = mean_squared_error(y_train, Y_hat) ** 0.5\n",
    "print(\"RMSE :\" , RMSE)"
   ]
  }
 ],
 "metadata": {
  "kernelspec": {
   "display_name": "Python 3",
   "language": "python",
   "name": "python3"
  },
  "language_info": {
   "codemirror_mode": {
    "name": "ipython",
    "version": 3
   },
   "file_extension": ".py",
   "mimetype": "text/x-python",
   "name": "python",
   "nbconvert_exporter": "python",
   "pygments_lexer": "ipython3",
   "version": "3.7.4"
  }
 },
 "nbformat": 4,
 "nbformat_minor": 4
}
